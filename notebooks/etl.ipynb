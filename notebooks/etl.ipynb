{
 "cells": [
  {
   "cell_type": "code",
   "execution_count": 8,
   "metadata": {},
   "outputs": [
    {
     "name": "stdout",
     "output_type": "stream",
     "text": [
      "The autoreload extension is already loaded. To reload it, use:\n",
      "  %reload_ext autoreload\n"
     ]
    }
   ],
   "source": [
    "%load_ext autoreload\n",
    "%autoreload 2"
   ]
  },
  {
   "cell_type": "markdown",
   "metadata": {},
   "source": [
    "## ETL Pipeline"
   ]
  },
  {
   "cell_type": "markdown",
   "metadata": {},
   "source": [
    "### Run the Extraction and Transformation (save to CSV file)"
   ]
  },
  {
   "cell_type": "code",
   "execution_count": 10,
   "metadata": {},
   "outputs": [
    {
     "name": "stdout",
     "output_type": "stream",
     "text": [
      "2025-05-04 19:06:48 - scripts.run_etl - INFO - Starting Museum Data ETL Process\n",
      "2025-05-04 19:06:48 - scripts.run_etl - INFO - Fetching Wikipedia page: List_of_most_visited_museums\n",
      "2025-05-04 19:06:48 - data.extraction - INFO - Requesting HTML for page: List_of_most_visited_museums from https://en.wikipedia.org/w/api.php\n",
      "2025-05-04 19:06:49 - data.extraction - INFO - Successfully retrieved HTML for List_of_most_visited_museums\n",
      "2025-05-04 19:06:49 - scripts.run_etl - INFO - Extracting museum data table from HTML...\n",
      "2025-05-04 19:06:49 - data.extraction - INFO - Attempting table extraction matching pattern: 'Visitors in 2024'\n",
      "2025-05-04 19:06:49 - data.extraction - INFO - Found table using match='Visitors in 2024'.\n",
      "2025-05-04 19:06:49 - data.extraction - INFO - Processing extracted table with shape: (81, 4)\n",
      "2025-05-04 19:06:49 - scripts.run_etl - INFO - Successfully extracted table. Shape: (81, 4)\n",
      "2025-05-04 19:06:49 - scripts.run_etl - INFO - Cleaning and filtering museum data...\n",
      "2025-05-04 19:06:49 - data.transformation - INFO - Using column 'visitors_in_2024' for visitor data.\n",
      "2025-05-04 19:06:49 - data.transformation - INFO - Rows before filtering: 81\n",
      "2025-05-04 19:06:49 - data.transformation - INFO - Rows after filtering for Year == 2024: 53\n",
      "2025-05-04 19:06:49 - data.transformation - INFO - Rows after filtering for Visitors > 1,250,000: 53\n",
      "2025-05-04 19:06:49 - data.transformation - INFO - Cleaning complete. Final shape: (53, 5)\n",
      "2025-05-04 19:06:49 - scripts.run_etl - INFO - Data cleaning finished. 53 museums remaining.\n",
      "2025-05-04 19:06:49 - scripts.run_etl - INFO - Enriching museum data with city population...\n",
      "2025-05-04 19:06:49 - data.transformation - INFO - Fetching population data for 34 unique city-country pairs using up to 8 workers.\n",
      "2025-05-04 19:06:49 - data.transformation - INFO - Applying rule: 'Vatican City, Rome, Vatican' -> 'Rome, Italy'\n",
      "2025-05-04 19:06:49 - data.transformation - INFO - Handling multiple cities for 'Washington, D.C., United States': ['Washington', 'D.C.']\n",
      "2025-05-04 19:06:49 - data.transformation - INFO - Applying rule: 'London, South Kensington, United Kingdom' -> 'London, United Kingdom'\n",
      "2025-05-04 19:06:49 - data.transformation - INFO - Processed 10/34 city populations...\n",
      "2025-05-04 19:06:49 - data.transformation - INFO - Multiple populations found for 'Washington, D.C., United States': {'Washington': 689545, 'D.C.': 689545}. Using max pop 689545 from 'Washington'.\n",
      "2025-05-04 19:06:49 - data.transformation - INFO - Processed 20/34 city populations...\n",
      "2025-05-04 19:06:50 - data.transformation - INFO - Processed 30/34 city populations...\n",
      "2025-05-04 19:06:50 - data.transformation - INFO - Processed 34/34 city populations...\n",
      "2025-05-04 19:06:50 - data.transformation - INFO - Population enrichment complete. Total museums processed: 53\n",
      "2025-05-04 19:06:50 - data.transformation - INFO - - Museums with valid population data: 53\n",
      "2025-05-04 19:06:50 - data.transformation - INFO - - Museums where population lookup failed (specific reason recorded): 0\n",
      "2025-05-04 19:06:50 - data.transformation - INFO - - Museums with population marked NA (lookup error or missing key): 0\n",
      "2025-05-04 19:06:50 - scripts.run_etl - INFO - Enrichment complete. Final DataFrame shape: (53, 6)\n",
      "2025-05-04 19:06:50 - scripts.run_etl - INFO - Final Enriched Museum Data Head (with Population):\n",
      "                                       name                city         country  visitors_count  visitors_year  population\n",
      "0                                    Louvre               Paris          France         8700000           2024     2138551\n",
      "1                           Vatican Museums  Vatican City, Rome         Vatican         6825436           2024     2318895\n",
      "2                  National Museum of China             Beijing           China         6300000           2024    18960744\n",
      "3                            British Museum              London  United Kingdom         6479952           2024     8961989\n",
      "4  Natural History Museum, South Kensington              London  United Kingdom         6301972           2024     8961989\n",
      "2025-05-04 19:06:50 - scripts.run_etl - INFO - Successfully saved enriched data to /Users/dev/visitum/data/enriched_museum_data.csv\n",
      "2025-05-04 19:06:50 - scripts.run_etl - INFO - Museum Data ETL Process Completed Successfully\n"
     ]
    }
   ],
   "source": [
    "from scripts.run_etl import main\n",
    "main()"
   ]
  },
  {
   "cell_type": "markdown",
   "metadata": {},
   "source": [
    "### Load the Data into a Database"
   ]
  },
  {
   "cell_type": "markdown",
   "metadata": {},
   "source": []
  }
 ],
 "metadata": {
  "kernelspec": {
   "display_name": "visitum",
   "language": "python",
   "name": "python3"
  },
  "language_info": {
   "codemirror_mode": {
    "name": "ipython",
    "version": 3
   },
   "file_extension": ".py",
   "mimetype": "text/x-python",
   "name": "python",
   "nbconvert_exporter": "python",
   "pygments_lexer": "ipython3",
   "version": "3.11.2"
  }
 },
 "nbformat": 4,
 "nbformat_minor": 2
}
