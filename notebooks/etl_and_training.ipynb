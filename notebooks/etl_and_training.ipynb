{
 "cells": [
  {
   "cell_type": "code",
   "execution_count": 6,
   "metadata": {},
   "outputs": [
    {
     "name": "stdout",
     "output_type": "stream",
     "text": [
      "The autoreload extension is already loaded. To reload it, use:\n",
      "  %reload_ext autoreload\n"
     ]
    }
   ],
   "source": [
    "%load_ext autoreload\n",
    "%autoreload 2\n",
    "import time"
   ]
  },
  {
   "cell_type": "markdown",
   "metadata": {},
   "source": [
    "## ETL Pipeline"
   ]
  },
  {
   "cell_type": "markdown",
   "metadata": {},
   "source": [
    "### Run the Extraction and Transformation (save to CSV file)"
   ]
  },
  {
   "cell_type": "code",
   "execution_count": 7,
   "metadata": {},
   "outputs": [
    {
     "name": "stderr",
     "output_type": "stream",
     "text": [
      "2025-05-09 11:55:24 - root - INFO - Starting Museum Data ETL Process\n",
      "2025-05-09 11:55:24 - root - INFO - Fetching Wikipedia page: List_of_most_visited_museums\n",
      "2025-05-09 11:55:24 - root - INFO - Requesting HTML for page: List_of_most_visited_museums from https://en.wikipedia.org/w/api.php\n",
      "2025-05-09 11:55:24 - root - INFO - Successfully retrieved HTML for List_of_most_visited_museums\n",
      "2025-05-09 11:55:24 - root - INFO - Extracting museum data table from HTML...\n",
      "2025-05-09 11:55:24 - root - INFO - Attempting table extraction matching pattern: 'Visitors in 2024'\n",
      "2025-05-09 11:55:24 - root - INFO - Found table using match='Visitors in 2024'.\n",
      "2025-05-09 11:55:24 - root - INFO - Processing extracted table with shape: (81, 4)\n",
      "2025-05-09 11:55:24 - root - INFO - Successfully extracted table. Shape: (81, 4)\n",
      "2025-05-09 11:55:24 - root - INFO - Cleaning and filtering museum data...\n",
      "2025-05-09 11:55:24 - root - INFO - Using column 'visitors_in_2024' for visitor data.\n",
      "2025-05-09 11:55:24 - root - INFO - Dropped 28 rows due to missing visitor counts after parsing.\n",
      "2025-05-09 11:55:24 - root - INFO - Rows before filtering: 53\n",
      "2025-05-09 11:55:24 - root - INFO - Rows after filtering for Year == 2024: 53\n",
      "2025-05-09 11:55:24 - root - INFO - Rows after filtering for Visitors > 1,250,000: 53\n",
      "2025-05-09 11:55:24 - root - INFO - Cleaning complete. Final shape: (53, 5)\n",
      "2025-05-09 11:55:24 - root - INFO - Data cleaning finished. 53 museums remaining.\n",
      "2025-05-09 11:55:24 - root - INFO - Enriching museum data with city population...\n",
      "2025-05-09 11:55:24 - root - INFO - Fetching population data for 34 unique city-country pairs using up to 8 workers.\n",
      "2025-05-09 11:55:24 - root - INFO - Applying rule: 'Vatican City, Rome, Vatican' -> 'Rome, Italy'\n",
      "2025-05-09 11:55:24 - root - INFO - Handling multiple cities for 'Washington, D.C., United States': ['Washington', 'D.C.']\n",
      "2025-05-09 11:55:25 - root - INFO - Applying rule: 'London, South Kensington, United Kingdom' -> 'London, United Kingdom'\n",
      "2025-05-09 11:55:25 - root - INFO - Processed 10/34 city populations...\n",
      "2025-05-09 11:55:25 - root - INFO - Multiple populations found for 'Washington, D.C., United States': {'Washington': 689545, 'D.C.': 689545}. Using max pop 689545 from 'Washington'.\n",
      "2025-05-09 11:55:26 - root - INFO - Processed 20/34 city populations...\n",
      "2025-05-09 11:55:26 - root - INFO - Processed 30/34 city populations...\n",
      "2025-05-09 11:55:26 - root - INFO - Processed 34/34 city populations...\n",
      "2025-05-09 11:55:26 - root - INFO - Population enrichment complete. Total museums processed: 53\n",
      "2025-05-09 11:55:26 - root - INFO - - Museums with valid population data: 53\n",
      "2025-05-09 11:55:26 - root - INFO - - Museums where population lookup failed (specific reason recorded): 0\n",
      "2025-05-09 11:55:26 - root - INFO - - Museums with population marked NA (lookup error or missing key): 0\n",
      "2025-05-09 11:55:26 - root - INFO - Enrichment complete. Final DataFrame shape: (53, 6)\n",
      "2025-05-09 11:55:26 - root - INFO - Final Enriched Museum Data Head (with Population):\n",
      "                                       name                city         country  visitors_count  visitors_year  population\n",
      "0                                    Louvre               Paris          France         8700000           2024     2138551\n",
      "1                           Vatican Museums  Vatican City, Rome         Vatican         6825436           2024     2318895\n",
      "2                  National Museum of China             Beijing           China         6300000           2024    18960744\n",
      "3                            British Museum              London  United Kingdom         6479952           2024     8961989\n",
      "4  Natural History Museum, South Kensington              London  United Kingdom         6301972           2024     8961989\n",
      "2025-05-09 11:55:26 - root - INFO - Successfully saved enriched data to /Users/dev/visitum/data/enriched_museum_data.csv\n",
      "2025-05-09 11:55:26 - root - INFO - Museum Data ETL Process Completed Successfully\n"
     ]
    }
   ],
   "source": [
    "from scripts.run_etl import main\n",
    "main()\n",
    "time.sleep(0.1)"
   ]
  },
  {
   "cell_type": "markdown",
   "metadata": {},
   "source": [
    "### Load the Data into a Database"
   ]
  },
  {
   "cell_type": "code",
   "execution_count": 8,
   "metadata": {},
   "outputs": [
    {
     "name": "stderr",
     "output_type": "stream",
     "text": [
      "2025-05-09 11:55:26 - root - INFO - Initializing database at sqlite:////Users/dev/visitum/data/visitum.db\n",
      "2025-05-09 11:55:26 - root - INFO - Database tables checked/created by init_db.\n",
      "2025-05-09 11:55:26 - root - INFO - Loading data from /Users/dev/visitum/data/enriched_museum_data.csv...\n",
      "2025-05-09 11:55:26 - root - INFO - Successfully committed data: 0 new cities, 0 new museums.\n",
      "2025-05-09 11:55:26 - root - INFO - Database session closed.\n"
     ]
    }
   ],
   "source": [
    "from scripts.load_data_from_csv_to_db import main\n",
    "main()\n",
    "time.sleep(0.1)"
   ]
  },
  {
   "cell_type": "markdown",
   "metadata": {},
   "source": [
    "### Get the Data from the Database (just to check)"
   ]
  },
  {
   "cell_type": "code",
   "execution_count": 9,
   "metadata": {},
   "outputs": [
    {
     "name": "stderr",
     "output_type": "stream",
     "text": [
      "2025-05-09 11:55:26 - root - INFO - Fetched 53 museums with city population data.\n"
     ]
    },
    {
     "name": "stdout",
     "output_type": "stream",
     "text": [
      "Fetching museum data...\n",
      "Successfully fetched 53 records.\n",
      "('Louvre', 8700000, 'Paris', 2138551)\n",
      "('Vatican Museums', 6825436, 'Vatican City, Rome', 2318895)\n",
      "('National Museum of China', 6300000, 'Beijing', 18960744)\n",
      "('British Museum', 6479952, 'London', 8961989)\n",
      "('Natural History Museum, South Kensington', 6301972, 'London', 8961989)\n",
      "('Metropolitan Museum of Art', 5727258, 'New York City', 8804190)\n",
      "('American Museum of Natural History', 5400000, 'New York City', 8804190)\n",
      "('Galleria degli Uffizi', 2908828, 'Florence', 367150)\n",
      "(\"Musée d'Orsay\", 3751000, 'Paris', 2138551)\n",
      "('Tate Modern', 4603025, 'London', 8961989)\n",
      "('National Gallery of Art', 3936543, 'Washington, D.C.', 689545)\n",
      "('State Hermitage Museum', 3563590, 'Saint Petersburg', 5351935)\n",
      "('Prado Museum', 3457057, 'Madrid', 3255944)\n",
      "('Victoria and Albert Museum', 3525700, 'London, South Kensington', 8961989)\n",
      "('National Air and Space Museum[a]', 3100000, 'Washington, D.C.', 689545)\n",
      "('National Gallery', 3203451, 'London', 8961989)\n",
      "('National Museum of Natural Science', 2854455, 'Taichung', 1040725)\n",
      "('National Museum of Anthropology', 3700000, 'Mexico City', 12294193)\n",
      "('Centre Pompidou', 3204369, 'Paris', 2138551)\n",
      "('Smithsonian Museum of American History', 2100000, 'Washington, D.C.', 689545)\n",
      "('London Science Museum', 2827242, 'London', 8961989)\n",
      "(\"Cité des Sciences et de l'Industrie\", 1992823, 'Paris', 2138551)\n",
      "('National Museum of Scotland', 2314974, 'Edinburgh', 506520)\n",
      "('National Science and Technology Museum', 1875372, 'Kaohsiung', 1519711)\n",
      "('National Museum of Modern and Contemporary Art', 1806641, 'Seoul', 10349312)\n",
      "('National Palace Museum', 1874994, 'Taipei', 7871900)\n",
      "('California Science Center', 1694000, 'Los Angeles', 3898747)\n",
      "('Art Gallery of NSW', 1692028, 'Sydney', 5231147)\n",
      "('Royal Museums Greenwich', 2255753, 'London', 8961989)\n",
      "('Zhejiang Museum of Natural History', 1581263, 'Hangzhou', 9236032)\n",
      "('National Gallery of Victoria', 1580303, 'Melbourne', 4917750)\n",
      "('Jianchuan Museum Cluster', 1538143, 'Chengdu', 13568357)\n",
      "('Houston Museum of Natural Science', 1520000, 'Houston', 2304580)\n",
      "('Tokyo Metropolitan Art Museum', 1509970, 'Tokyo', 9733276)\n",
      "('Changzhou Museum', 1508229, 'Changzhou', 3290918)\n",
      "('Humboldt Forum', 1500000, 'Berlin', 3426354)\n",
      "('Kaohsiung Museum of Fine Arts', 1461406, 'Kaohsiung', 1519711)\n",
      "('Acropolis Museum', 1451727, 'Athens', 664046)\n",
      "('China Science and Technology Museum', 1431189, 'Beijing', 18960744)\n",
      "('Suzhou Museum', 1417412, 'Suzhou', 6715559)\n",
      "('Chengdu Museum', 1404735, 'Chengdu', 13568357)\n",
      "('Shanghai Science and Technology Museum', 1403179, 'Shanghai', 24874500)\n",
      "('The National Art Center, Tokyo', 1400096, 'Tokyo', 9733276)\n",
      "('Tokyo National Museum', 1372132, 'Tokyo', 9733276)\n",
      "('National Museum in Kraków', 1600000, 'Kraków', 755050)\n",
      "('Centro Cultural Banco do Brasil', 1364208, 'São Paulo', 12400232)\n",
      "('Van Gogh Museum', 1364023, 'Amsterdam', 741636)\n",
      "('Kunsthistorisches Museum', 1688509, 'Vienna', 1691468)\n",
      "(\"Museo Nazionale di Castel Sant'Angelo\", 1321834, 'Rome', 2318895)\n",
      "('Tianjin Natural History Museum', 1320752, 'Tianjin', 11090314)\n",
      "Database session closed.\n"
     ]
    }
   ],
   "source": [
    "from db.queries import get_museums_with_city_population\n",
    "from db.database import get_db\n",
    "\n",
    "with get_db() as db:\n",
    "    print(\"Fetching museum data...\")\n",
    "    museums = get_museums_with_city_population(db)\n",
    "    \n",
    "    if museums:\n",
    "        print(f\"Successfully fetched {len(museums)} records.\")\n",
    "        # Print the first few records as an example\n",
    "        for record in museums[:50]:\n",
    "            print(record)\n",
    "    else:\n",
    "        print(\"No museum data found or an error occurred.\")\n",
    "    print(\"Database session closed.\")\n"
   ]
  },
  {
   "cell_type": "markdown",
   "metadata": {},
   "source": [
    "## Model Training"
   ]
  },
  {
   "cell_type": "code",
   "execution_count": 10,
   "metadata": {},
   "outputs": [
    {
     "name": "stderr",
     "output_type": "stream",
     "text": [
      "2025-05-09 11:55:26 - root - INFO - Running training pipeline as standalone script...\n",
      "2025-05-09 11:55:26 - root - INFO - Starting training pipeline...\n",
      "2025-05-09 11:55:26 - root - INFO - Connecting to the database...\n",
      "2025-05-09 11:55:26 - root - INFO - Fetching model features from the database...\n",
      "2025-05-09 11:55:26 - root - INFO - Fetching features for model training (population vs visitors).\n",
      "2025-05-09 11:55:26 - root - INFO - Successfully fetched 53 records for model training.\n",
      "2025-05-09 11:55:26 - root - INFO - Fetched 53 records. Proceeding to model training.\n",
      "2025-05-09 11:55:26 - root - INFO - Starting model training with 53 records.\n",
      "2025-05-09 11:55:26 - root - INFO - Model R-squared score: -0.03; it's... CATASTROPHIC :(\n",
      "2025-05-09 11:55:26 - root - INFO - Model training complete. Intercept: 2590829.84, Coefficient: 0.01\n",
      "2025-05-09 11:55:26 - root - INFO - Model equation: visitors_count ≈ 0.01 * population + 2590829.84\n",
      "2025-05-09 11:55:26 - root - INFO - Model training completed successfully.\n",
      "2025-05-09 11:55:26 - root - INFO - Saving model to /Users/dev/visitum/data/trained_regression_model.joblib...\n",
      "2025-05-09 11:55:26 - root - INFO - Model saved successfully.\n",
      "2025-05-09 11:55:26 - root - INFO - Pipeline finished. Trained model object is available.\n",
      "2025-05-09 11:55:26 - root - INFO - Model intercept: 2590829.840332538\n",
      "2025-05-09 11:55:26 - root - INFO - Model coefficient: 0.005891426949544582\n"
     ]
    }
   ],
   "source": [
    "from scripts.train_model import main\n",
    "main()\n",
    "time.sleep(0.1)\n"
   ]
  }
 ],
 "metadata": {
  "kernelspec": {
   "display_name": "visitum",
   "language": "python",
   "name": "python3"
  },
  "language_info": {
   "codemirror_mode": {
    "name": "ipython",
    "version": 3
   },
   "file_extension": ".py",
   "mimetype": "text/x-python",
   "name": "python",
   "nbconvert_exporter": "python",
   "pygments_lexer": "ipython3",
   "version": "3.11.2"
  }
 },
 "nbformat": 4,
 "nbformat_minor": 2
}
